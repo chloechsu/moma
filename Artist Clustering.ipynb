{
 "cells": [
  {
   "cell_type": "code",
   "execution_count": 1,
   "metadata": {
    "collapsed": false
   },
   "outputs": [],
   "source": [
    "import numpy as np\n",
    "import pandas as pd\n",
    "from matplotlib import pyplot as plt\n",
    "import re\n",
    "import seaborn"
   ]
  },
  {
   "cell_type": "code",
   "execution_count": 2,
   "metadata": {
    "collapsed": false
   },
   "outputs": [],
   "source": [
    "artists = pd.read_csv(\"artists.csv\")\n",
    "artworks = pd.read_csv(\"artworks.csv\")"
   ]
  },
  {
   "cell_type": "code",
   "execution_count": 3,
   "metadata": {
    "collapsed": false
   },
   "outputs": [],
   "source": [
    "artworks = artworks.set_index(artworks['Artwork ID'])\n",
    "artists = artists.set_index(artists['Artist ID'])"
   ]
  },
  {
   "cell_type": "code",
   "execution_count": 4,
   "metadata": {
    "collapsed": true
   },
   "outputs": [],
   "source": [
    "def find_year(datestr):\n",
    "    if datestr is np.nan:\n",
    "        return None\n",
    "    match = re.search('[1-2]\\d\\d\\d', datestr)\n",
    "    if match is None:\n",
    "        return -1\n",
    "    else:\n",
    "        return int(match.group())"
   ]
  },
  {
   "cell_type": "code",
   "execution_count": 5,
   "metadata": {
    "collapsed": false
   },
   "outputs": [],
   "source": [
    "artworks['Year'] = artworks['Date'].apply(find_year)"
   ]
  },
  {
   "cell_type": "code",
   "execution_count": 6,
   "metadata": {
    "collapsed": false,
    "scrolled": false
   },
   "outputs": [],
   "source": [
    "workcount_arr = np.zeros(artists['Artist ID'].max()+1, dtype=int)\n",
    "for i, s in artworks['Artist ID'].iteritems():\n",
    "    if s is np.nan:\n",
    "        continue\n",
    "    for j in [(x.strip()) for x in s.split(',')]:\n",
    "        if j == '': continue\n",
    "        try:\n",
    "            workcount_arr[int(j)] += 1\n",
    "        except ValueError:\n",
    "            print 'Invalid id %s' % s\n",
    "workcount = pd.Series(workcount_arr, name='Work Count')\n",
    "artists = artists.join(workcount, on='Artist ID')"
   ]
  },
  {
   "cell_type": "code",
   "execution_count": 7,
   "metadata": {
    "collapsed": true
   },
   "outputs": [],
   "source": [
    "collaboration = []\n",
    "for i, s in artworks['Artist ID'].iteritems():\n",
    "    if s is np.nan or s == '':\n",
    "        continue\n",
    "    if len(s.split(',')) > 1:\n",
    "        collaboration.append([int(x.strip()) for x in s.split(',')])"
   ]
  },
  {
   "cell_type": "code",
   "execution_count": 8,
   "metadata": {
    "collapsed": false
   },
   "outputs": [
    {
     "data": {
      "text/plain": [
       "(6429, 15091)"
      ]
     },
     "execution_count": 8,
     "metadata": {},
     "output_type": "execute_result"
    }
   ],
   "source": [
    "len(collaboration), len(artists)"
   ]
  },
  {
   "cell_type": "code",
   "execution_count": 9,
   "metadata": {
    "collapsed": false
   },
   "outputs": [],
   "source": [
    "collab = []\n",
    "collab_id = []\n",
    "weight = []\n",
    "for ind, r in artworks.iterrows():\n",
    "    s = r['Artist ID']\n",
    "    if s is np.nan or len(s.split(',')) <= 1:\n",
    "        continue\n",
    "    collaborators = np.array([int(x.strip()) for x in s.split(',')])\n",
    "    collaborators = np.unique(collaborators)\n",
    "    # use work count as proxy for importance\n",
    "    w = artists['Work Count'][collaborators].sum()\n",
    "    for i in range(len(collaborators)):\n",
    "        for j in range(i+1, len(collaborators)):\n",
    "            collab.append(set((collaborators[i],collaborators[j])))\n",
    "            collab_id.append(r['Artwork ID'])\n",
    "            weight.append(w)"
   ]
  },
  {
   "cell_type": "code",
   "execution_count": 10,
   "metadata": {
    "collapsed": false
   },
   "outputs": [
    {
     "data": {
      "text/plain": [
       "45397"
      ]
     },
     "execution_count": 10,
     "metadata": {},
     "output_type": "execute_result"
    }
   ],
   "source": [
    "len(collab)"
   ]
  },
  {
   "cell_type": "code",
   "execution_count": 11,
   "metadata": {
    "collapsed": false
   },
   "outputs": [],
   "source": [
    "artist1 = np.array(map(lambda x: list(x)[0], collab))\n",
    "artist2 = np.array(map(lambda x: list(x)[1], collab))\n",
    "edges = pd.DataFrame(np.hstack([artist1[:,np.newaxis], artist2[:,np.newaxis], \n",
    "                     np.array(collab_id)[:,np.newaxis],\n",
    "                     np.array(weight)[:,np.newaxis]]),\n",
    "                     columns = ['Source', 'Target', 'Artwork ID', 'Weight'])"
   ]
  },
  {
   "cell_type": "code",
   "execution_count": 12,
   "metadata": {
    "collapsed": false
   },
   "outputs": [],
   "source": [
    "edges = edges.join(artworks['Title'], on=['Artwork ID'])"
   ]
  },
  {
   "cell_type": "code",
   "execution_count": 13,
   "metadata": {
    "collapsed": false
   },
   "outputs": [],
   "source": [
    "edges[['Source', 'Target', 'Weight', 'Title']].to_csv('collab_edges.csv', encoding='utf-8')"
   ]
  },
  {
   "cell_type": "code",
   "execution_count": 14,
   "metadata": {
    "collapsed": false
   },
   "outputs": [],
   "source": [
    "artists[['Name', 'Birth Year', 'Work Count']].to_csv('collab_nodes.csv', encoding='utf-8')"
   ]
  },
  {
   "cell_type": "code",
   "execution_count": null,
   "metadata": {
    "collapsed": true
   },
   "outputs": [],
   "source": []
  },
  {
   "cell_type": "code",
   "execution_count": 15,
   "metadata": {
    "collapsed": true
   },
   "outputs": [],
   "source": [
    "from sklearn.feature_extraction import DictVectorizer"
   ]
  },
  {
   "cell_type": "code",
   "execution_count": 16,
   "metadata": {
    "collapsed": false
   },
   "outputs": [],
   "source": [
    "artists_features = artists[['Nationality', 'Gender', 'Birth Year', 'Death Year']]"
   ]
  },
  {
   "cell_type": "code",
   "execution_count": 17,
   "metadata": {
    "collapsed": true
   },
   "outputs": [],
   "source": [
    "featuredicts = [dict(r) for i,r in artists_features.dropna().iterrows()]"
   ]
  },
  {
   "cell_type": "code",
   "execution_count": 18,
   "metadata": {
    "collapsed": false
   },
   "outputs": [],
   "source": [
    "vec = DictVectorizer()\n",
    "featurearray = vec.fit_transform(featuredicts).toarray()"
   ]
  },
  {
   "cell_type": "code",
   "execution_count": 19,
   "metadata": {
    "collapsed": true
   },
   "outputs": [],
   "source": [
    "from sklearn.cluster import KMeans"
   ]
  },
  {
   "cell_type": "code",
   "execution_count": 20,
   "metadata": {
    "collapsed": false
   },
   "outputs": [],
   "source": [
    "kmeans = KMeans(n_clusters=20, random_state=0).fit(featurearray)"
   ]
  },
  {
   "cell_type": "code",
   "execution_count": 21,
   "metadata": {
    "collapsed": false
   },
   "outputs": [],
   "source": [
    "data = np.vstack((artists_features.dropna().index, kmeans.labels_)).transpose()\n",
    "artists_cluster = pd.DataFrame(data, columns = ['Artist ID', 'Cluster']).set_index('Artist ID')"
   ]
  },
  {
   "cell_type": "code",
   "execution_count": 24,
   "metadata": {
    "collapsed": false
   },
   "outputs": [],
   "source": [
    "artists = artists.join(artists_cluster, on='Artist ID')"
   ]
  },
  {
   "cell_type": "code",
   "execution_count": 25,
   "metadata": {
    "collapsed": false
   },
   "outputs": [
    {
     "data": {
      "text/html": [
       "<div>\n",
       "<style>\n",
       "    .dataframe thead tr:only-child th {\n",
       "        text-align: right;\n",
       "    }\n",
       "\n",
       "    .dataframe thead th {\n",
       "        text-align: left;\n",
       "    }\n",
       "\n",
       "    .dataframe tbody tr th {\n",
       "        vertical-align: top;\n",
       "    }\n",
       "</style>\n",
       "<table border=\"1\" class=\"dataframe\">\n",
       "  <thead>\n",
       "    <tr style=\"text-align: right;\">\n",
       "      <th></th>\n",
       "      <th>Artist ID</th>\n",
       "      <th>Birth Year</th>\n",
       "      <th>Death Year</th>\n",
       "      <th>Work Count</th>\n",
       "    </tr>\n",
       "    <tr>\n",
       "      <th>Cluster</th>\n",
       "      <th></th>\n",
       "      <th></th>\n",
       "      <th></th>\n",
       "      <th></th>\n",
       "    </tr>\n",
       "  </thead>\n",
       "  <tbody>\n",
       "    <tr>\n",
       "      <th>16.0</th>\n",
       "      <td>2274.0</td>\n",
       "      <td>1746.0</td>\n",
       "      <td>1828.0</td>\n",
       "      <td>181.0</td>\n",
       "    </tr>\n",
       "    <tr>\n",
       "      <th>19.0</th>\n",
       "      <td>5543.0</td>\n",
       "      <td>1886.0</td>\n",
       "      <td>1941.0</td>\n",
       "      <td>3.0</td>\n",
       "    </tr>\n",
       "    <tr>\n",
       "      <th>12.0</th>\n",
       "      <td>4963.0</td>\n",
       "      <td>1838.0</td>\n",
       "      <td>1907.0</td>\n",
       "      <td>3.0</td>\n",
       "    </tr>\n",
       "    <tr>\n",
       "      <th>4.0</th>\n",
       "      <td>4669.0</td>\n",
       "      <td>1900.0</td>\n",
       "      <td>1985.0</td>\n",
       "      <td>3.0</td>\n",
       "    </tr>\n",
       "    <tr>\n",
       "      <th>7.0</th>\n",
       "      <td>3907.0</td>\n",
       "      <td>1927.0</td>\n",
       "      <td>1974.0</td>\n",
       "      <td>3.0</td>\n",
       "    </tr>\n",
       "    <tr>\n",
       "      <th>8.0</th>\n",
       "      <td>5189.0</td>\n",
       "      <td>1936.0</td>\n",
       "      <td>2011.0</td>\n",
       "      <td>3.0</td>\n",
       "    </tr>\n",
       "    <tr>\n",
       "      <th>15.0</th>\n",
       "      <td>4590.0</td>\n",
       "      <td>1922.0</td>\n",
       "      <td>2007.0</td>\n",
       "      <td>3.0</td>\n",
       "    </tr>\n",
       "    <tr>\n",
       "      <th>5.0</th>\n",
       "      <td>4687.0</td>\n",
       "      <td>1909.0</td>\n",
       "      <td>1999.0</td>\n",
       "      <td>2.5</td>\n",
       "    </tr>\n",
       "    <tr>\n",
       "      <th>18.0</th>\n",
       "      <td>29857.0</td>\n",
       "      <td>1955.0</td>\n",
       "      <td>2002.0</td>\n",
       "      <td>2.0</td>\n",
       "    </tr>\n",
       "    <tr>\n",
       "      <th>17.0</th>\n",
       "      <td>5791.0</td>\n",
       "      <td>1804.0</td>\n",
       "      <td>1870.0</td>\n",
       "      <td>2.0</td>\n",
       "    </tr>\n",
       "    <tr>\n",
       "      <th>14.0</th>\n",
       "      <td>5167.5</td>\n",
       "      <td>1857.0</td>\n",
       "      <td>1928.0</td>\n",
       "      <td>2.0</td>\n",
       "    </tr>\n",
       "    <tr>\n",
       "      <th>13.0</th>\n",
       "      <td>4871.0</td>\n",
       "      <td>1901.0</td>\n",
       "      <td>1957.0</td>\n",
       "      <td>2.0</td>\n",
       "    </tr>\n",
       "    <tr>\n",
       "      <th>0.0</th>\n",
       "      <td>5191.0</td>\n",
       "      <td>1930.0</td>\n",
       "      <td>1994.0</td>\n",
       "      <td>2.0</td>\n",
       "    </tr>\n",
       "    <tr>\n",
       "      <th>11.0</th>\n",
       "      <td>4489.0</td>\n",
       "      <td>1915.0</td>\n",
       "      <td>1988.0</td>\n",
       "      <td>2.0</td>\n",
       "    </tr>\n",
       "    <tr>\n",
       "      <th>1.0</th>\n",
       "      <td>4271.5</td>\n",
       "      <td>1890.0</td>\n",
       "      <td>1970.0</td>\n",
       "      <td>2.0</td>\n",
       "    </tr>\n",
       "    <tr>\n",
       "      <th>9.0</th>\n",
       "      <td>4653.5</td>\n",
       "      <td>1904.0</td>\n",
       "      <td>1974.0</td>\n",
       "      <td>2.0</td>\n",
       "    </tr>\n",
       "    <tr>\n",
       "      <th>6.0</th>\n",
       "      <td>4591.5</td>\n",
       "      <td>1820.0</td>\n",
       "      <td>1889.5</td>\n",
       "      <td>2.0</td>\n",
       "    </tr>\n",
       "    <tr>\n",
       "      <th>3.0</th>\n",
       "      <td>4599.0</td>\n",
       "      <td>1872.0</td>\n",
       "      <td>1917.0</td>\n",
       "      <td>2.0</td>\n",
       "    </tr>\n",
       "    <tr>\n",
       "      <th>2.0</th>\n",
       "      <td>4331.0</td>\n",
       "      <td>1869.0</td>\n",
       "      <td>1943.0</td>\n",
       "      <td>2.0</td>\n",
       "    </tr>\n",
       "    <tr>\n",
       "      <th>10.0</th>\n",
       "      <td>4763.0</td>\n",
       "      <td>1882.0</td>\n",
       "      <td>1958.0</td>\n",
       "      <td>2.0</td>\n",
       "    </tr>\n",
       "  </tbody>\n",
       "</table>\n",
       "</div>"
      ],
      "text/plain": [
       "         Artist ID  Birth Year  Death Year  Work Count\n",
       "Cluster                                               \n",
       "16.0        2274.0      1746.0      1828.0       181.0\n",
       "19.0        5543.0      1886.0      1941.0         3.0\n",
       "12.0        4963.0      1838.0      1907.0         3.0\n",
       "4.0         4669.0      1900.0      1985.0         3.0\n",
       "7.0         3907.0      1927.0      1974.0         3.0\n",
       "8.0         5189.0      1936.0      2011.0         3.0\n",
       "15.0        4590.0      1922.0      2007.0         3.0\n",
       "5.0         4687.0      1909.0      1999.0         2.5\n",
       "18.0       29857.0      1955.0      2002.0         2.0\n",
       "17.0        5791.0      1804.0      1870.0         2.0\n",
       "14.0        5167.5      1857.0      1928.0         2.0\n",
       "13.0        4871.0      1901.0      1957.0         2.0\n",
       "0.0         5191.0      1930.0      1994.0         2.0\n",
       "11.0        4489.0      1915.0      1988.0         2.0\n",
       "1.0         4271.5      1890.0      1970.0         2.0\n",
       "9.0         4653.5      1904.0      1974.0         2.0\n",
       "6.0         4591.5      1820.0      1889.5         2.0\n",
       "3.0         4599.0      1872.0      1917.0         2.0\n",
       "2.0         4331.0      1869.0      1943.0         2.0\n",
       "10.0        4763.0      1882.0      1958.0         2.0"
      ]
     },
     "execution_count": 25,
     "metadata": {},
     "output_type": "execute_result"
    }
   ],
   "source": [
    "artists.groupby('Cluster').median().sort_values('Work Count', ascending=False)"
   ]
  },
  {
   "cell_type": "code",
   "execution_count": null,
   "metadata": {
    "collapsed": true
   },
   "outputs": [],
   "source": []
  }
 ],
 "metadata": {
  "kernelspec": {
   "display_name": "Python 2",
   "language": "python",
   "name": "python2"
  },
  "language_info": {
   "codemirror_mode": {
    "name": "ipython",
    "version": 2
   },
   "file_extension": ".py",
   "mimetype": "text/x-python",
   "name": "python",
   "nbconvert_exporter": "python",
   "pygments_lexer": "ipython2",
   "version": "2.7.13"
  }
 },
 "nbformat": 4,
 "nbformat_minor": 2
}
