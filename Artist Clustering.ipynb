{
 "cells": [
  {
   "cell_type": "code",
   "execution_count": 1,
   "metadata": {
    "collapsed": false
   },
   "outputs": [],
   "source": [
    "import numpy as np\n",
    "import pandas as pd\n",
    "from matplotlib import pyplot as plt\n",
    "import re\n",
    "import seaborn"
   ]
  },
  {
   "cell_type": "code",
   "execution_count": 7,
   "metadata": {
    "collapsed": false
   },
   "outputs": [],
   "source": [
    "artists = pd.read_csv(\"artists.csv\")\n",
    "artworks = pd.read_csv(\"artworks.csv\")"
   ]
  },
  {
   "cell_type": "code",
   "execution_count": 8,
   "metadata": {
    "collapsed": false
   },
   "outputs": [],
   "source": [
    "artworks = artworks.set_index(artworks['Artwork ID'])\n",
    "artists = artists.set_index(artists['Artist ID'])"
   ]
  },
  {
   "cell_type": "code",
   "execution_count": 11,
   "metadata": {
    "collapsed": true
   },
   "outputs": [],
   "source": [
    "def find_year(datestr):\n",
    "    if datestr is np.nan:\n",
    "        return None\n",
    "    match = re.search('[1-2]\\d\\d\\d', datestr)\n",
    "    if match is None:\n",
    "        return -1\n",
    "    else:\n",
    "        return int(match.group())"
   ]
  },
  {
   "cell_type": "code",
   "execution_count": 12,
   "metadata": {
    "collapsed": false
   },
   "outputs": [],
   "source": [
    "artworks['Year'] = artworks['Date'].apply(find_year)"
   ]
  },
  {
   "cell_type": "code",
   "execution_count": 17,
   "metadata": {
    "collapsed": false,
    "scrolled": false
   },
   "outputs": [],
   "source": [
    "workcount_arr = np.zeros(artists['Artist ID'].max()+1, dtype=int)\n",
    "for i, s in artworks['Artist ID'].iteritems():\n",
    "    if s is np.nan:\n",
    "        continue\n",
    "    for j in [(x.strip()) for x in s.split(',')]:\n",
    "        if j == '': continue\n",
    "        try:\n",
    "            workcount_arr[int(j)] += 1\n",
    "        except ValueError:\n",
    "            print 'Invalid id %s' % s\n",
    "workcount = pd.Series(workcount_arr, name='Work Count')\n",
    "artists = artists.join(workcount, on='Artist ID')"
   ]
  },
  {
   "cell_type": "code",
   "execution_count": 18,
   "metadata": {
    "collapsed": true
   },
   "outputs": [],
   "source": [
    "collaboration = []\n",
    "for i, s in artworks['Artist ID'].iteritems():\n",
    "    if s is np.nan or s == '':\n",
    "        continue\n",
    "    if len(s.split(',')) > 1:\n",
    "        collaboration.append([int(x.strip()) for x in s.split(',')])"
   ]
  },
  {
   "cell_type": "code",
   "execution_count": 19,
   "metadata": {
    "collapsed": false
   },
   "outputs": [
    {
     "data": {
      "text/plain": [
       "(6429, 15091)"
      ]
     },
     "execution_count": 19,
     "metadata": {},
     "output_type": "execute_result"
    }
   ],
   "source": [
    "len(collaboration), len(artists)"
   ]
  },
  {
   "cell_type": "code",
   "execution_count": 45,
   "metadata": {
    "collapsed": false
   },
   "outputs": [],
   "source": [
    "collab = []\n",
    "collab_id = []\n",
    "weight = []\n",
    "for ind, r in artworks.iterrows():\n",
    "    s = r['Artist ID']\n",
    "    if s is np.nan or len(s.split(',')) <= 1:\n",
    "        continue\n",
    "    collaborators = np.array([int(x.strip()) for x in s.split(',')])\n",
    "    collaborators = np.unique(collaborators)\n",
    "    # use work count as proxy for importance\n",
    "    w = artists['Work Count'][collaborators].sum()\n",
    "    for i in range(len(collaborators)):\n",
    "        for j in range(i+1, len(collaborators)):\n",
    "            collab.append(set((collaborators[i],collaborators[j])))\n",
    "            collab_id.append(r['Artwork ID'])\n",
    "            weight.append(w)"
   ]
  },
  {
   "cell_type": "code",
   "execution_count": 21,
   "metadata": {
    "collapsed": false
   },
   "outputs": [
    {
     "data": {
      "text/plain": [
       "45397"
      ]
     },
     "execution_count": 21,
     "metadata": {},
     "output_type": "execute_result"
    }
   ],
   "source": [
    "len(collab)"
   ]
  },
  {
   "cell_type": "code",
   "execution_count": 52,
   "metadata": {
    "collapsed": false
   },
   "outputs": [],
   "source": [
    "artist1 = np.array(map(lambda x: list(x)[0], collab))\n",
    "artist2 = np.array(map(lambda x: list(x)[1], collab))\n",
    "edges = pd.DataFrame(np.hstack([artist1[:,np.newaxis], artist2[:,np.newaxis], \n",
    "                     np.array(collab_id)[:,np.newaxis],\n",
    "                     np.array(weight)[:,np.newaxis]]),\n",
    "                     columns = ['Source', 'Target', 'Artwork ID', 'Weight'])"
   ]
  },
  {
   "cell_type": "code",
   "execution_count": 53,
   "metadata": {
    "collapsed": false
   },
   "outputs": [],
   "source": [
    "edges = edges.join(artworks['Title'], on=['Artwork ID'])"
   ]
  },
  {
   "cell_type": "code",
   "execution_count": 60,
   "metadata": {
    "collapsed": false
   },
   "outputs": [],
   "source": [
    "edges[['Source', 'Target', 'Weight', 'Title']].to_csv('collab_edges.csv', encoding='utf-8')"
   ]
  },
  {
   "cell_type": "code",
   "execution_count": 61,
   "metadata": {
    "collapsed": false
   },
   "outputs": [],
   "source": [
    "artists[['Name', 'Birth Year', 'Work Count']].to_csv('collab_nodes.csv', encoding='utf-8')"
   ]
  },
  {
   "cell_type": "code",
   "execution_count": null,
   "metadata": {
    "collapsed": true
   },
   "outputs": [],
   "source": []
  }
 ],
 "metadata": {
  "kernelspec": {
   "display_name": "Python 2",
   "language": "python",
   "name": "python2"
  },
  "language_info": {
   "codemirror_mode": {
    "name": "ipython",
    "version": 2
   },
   "file_extension": ".py",
   "mimetype": "text/x-python",
   "name": "python",
   "nbconvert_exporter": "python",
   "pygments_lexer": "ipython2",
   "version": "2.7.13"
  }
 },
 "nbformat": 4,
 "nbformat_minor": 2
}
